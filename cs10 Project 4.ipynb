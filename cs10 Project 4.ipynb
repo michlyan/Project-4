{
 "cells": [
  {
   "cell_type": "code",
   "execution_count": 63,
   "metadata": {},
   "outputs": [
    {
     "data": {
      "text/html": [
       "<table border=\"1\" class=\"dataframe\">\n",
       "    <thead>\n",
       "        <tr>\n",
       "            <th>Username</th> <th>Full Name</th> <th>How old are you?</th> <th>Education</th> <th>Major (By Berkeley College)</th> <th>How risk averse are you?</th> <th>Introvert or Extrovert?</th> <th>What music do you listen to? (Check off all that apply)</th> <th>What's your ideal day off?</th> <th>What's your love language?</th> <th>Pick Three Interests</th> <th>(Optional) Include your Instagram handle here if you want to actually be found and possibly make friends through this project!</th>\n",
       "        </tr>\n",
       "    </thead>\n",
       "    <tbody>\n",
       "        <tr>\n",
       "            <td>michelle.yan@berkeley.edu     </td> <td>Michelle Yan            </td> <td>21              </td> <td>Fifth+ Year</td> <td>L&S - STEM (Applied Mathematics, Statistics, Data Scienc ...</td> <td>3                       </td> <td>Extrovert              </td> <td>Rap;R&B                                                </td> <td>Going to a beach                 </td> <td>Acts of Service           </td> <td>Environment;Animals;Memes              </td> <td>y.mich                                                                                                                        </td>\n",
       "        </tr>\n",
       "        <tr>\n",
       "            <td>maxinesc@berkeley.edu         </td> <td>Maxine Sy Chu           </td> <td>19              </td> <td>Second Year</td> <td>College of Engineering (Bioengineering; Civil & Environm ...</td> <td>7                       </td> <td>Introvert              </td> <td>Pop;Rap;Electronic;Rock                                </td> <td>Chilling at home                 </td> <td>Quality Time              </td> <td>Music;Memes;Video Games                </td> <td>@maxine.sc                                                                                                                    </td>\n",
       "        </tr>\n",
       "        <tr>\n",
       "            <td>graciechung@berkeley.edu      </td> <td>Gracie Chung            </td> <td>18 and younger  </td> <td>Second Year</td> <td>L&S - STEM (Applied Mathematics, Statistics, Data Scienc ...</td> <td>8                       </td> <td>Introvert              </td> <td>Pop;Rap;R&B                                            </td> <td>Chilling at home                 </td> <td>Words of Affirmation      </td> <td>Science/Technology;Animals;Music       </td> <td>gracieeunhae                                                                                                                  </td>\n",
       "        </tr>\n",
       "        <tr>\n",
       "            <td>aaronbaker@berkeley.edu       </td> <td>Aaron Baker             </td> <td>22              </td> <td>Fifth+ Year</td> <td>L&S - STEM (Applied Mathematics, Statistics, Data Scienc ...</td> <td>3                       </td> <td>Extrovert              </td> <td>Pop;Rap;Electronic;Rock;R&B;Musical                    </td> <td>Attending a party                </td> <td>Quality Time              </td> <td>Science/Technology;Sports;Music        </td> <td>nan                                                                                                                           </td>\n",
       "        </tr>\n",
       "        <tr>\n",
       "            <td>ashysze@gmail.com             </td> <td>Ash Sze                 </td> <td>19              </td> <td>Second Year</td> <td>College of Engineering (Bioengineering; Civil & Environm ...</td> <td>3                       </td> <td>Introvert              </td> <td>Pop;Rap;Electronic;Rock                                </td> <td>Going shopping                   </td> <td>Words of Affirmation      </td> <td>Music;Memes;Video Games                </td> <td>ash_sze                                                                                                                       </td>\n",
       "        </tr>\n",
       "        <tr>\n",
       "            <td>kristelfung@berkeley.edu      </td> <td>Kristel Fung            </td> <td>20              </td> <td>Second Year</td> <td>L&S - Humanities (Philosophy, Psychology, Sociology, Art ...</td> <td>4                       </td> <td>Extrovert              </td> <td>Pop;Electronic                                         </td> <td>Attending a party                </td> <td>Quality Time              </td> <td>Sports;Fashion;Art                     </td> <td>kristelfung                                                                                                                   </td>\n",
       "        </tr>\n",
       "        <tr>\n",
       "            <td>mdundar@berkeley.edu          </td> <td>Melisa Dundar           </td> <td>18 and younger  </td> <td>High School</td> <td>Not in College Yet!                                         </td> <td>7                       </td> <td>Extrovert              </td> <td>Pop;Rap;R&B                                            </td> <td>Going to a beach                 </td> <td>Quality Time              </td> <td>Environment;Science/Technology;Music   </td> <td>nan                                                                                                                           </td>\n",
       "        </tr>\n",
       "        <tr>\n",
       "            <td>vickysemenina@berkeley.edu    </td> <td>Vicky Semenina          </td> <td>21              </td> <td>Other      </td> <td>L&S - STEM (Applied Mathematics, Statistics, Data Scienc ...</td> <td>5                       </td> <td>Extrovert              </td> <td>Pop;Rap;Electronic                                     </td> <td>Going to a beach                 </td> <td>Acts of Service           </td> <td>Science/Technology;Sports;Music        </td> <td>@vickysemenina                                                                                                                </td>\n",
       "        </tr>\n",
       "        <tr>\n",
       "            <td>iyavari@berkeley.edu          </td> <td>Bella Yavari            </td> <td>21              </td> <td>Fourth Year</td> <td>L&S - STEM (Applied Mathematics, Statistics, Data Scienc ...</td> <td>4                       </td> <td>Extrovert              </td> <td>Pop;Rap;Electronic;Country;Rock;R&B;Jazz;Musical       </td> <td>Being in nature                  </td> <td>Acts of Service           </td> <td>Science/Technology;Sports;Music        </td> <td>@bella.yav                                                                                                                    </td>\n",
       "        </tr>\n",
       "        <tr>\n",
       "            <td>harcourt.rebecca@berkeley.edu </td> <td>Rebecca Harcourt        </td> <td>22              </td> <td>Other      </td> <td>L&S - STEM (Applied Mathematics, Statistics, Data Scienc ...</td> <td>6                       </td> <td>Introvert              </td> <td>Pop;Electronic;R&B                                     </td> <td>Being in nature                  </td> <td>Words of Affirmation      </td> <td>Environment;Animals;Art                </td> <td>rebecca_harcourt                                                                                                              </td>\n",
       "        </tr>\n",
       "        <tr>\n",
       "            <td>abhinav1arora@icloud.com      </td> <td>Abhinav Arora           </td> <td>20              </td> <td>Fourth Year</td> <td>L&S - Humanities (Philosophy, Psychology, Sociology, Art ...</td> <td>4                       </td> <td>Extrovert              </td> <td>Pop;Rap;Electronic;R&B                                 </td> <td>Attending a party                </td> <td>Quality Time              </td> <td>Politics;Science/Technology;Fashion    </td> <td>abhinavaroara                                                                                                                 </td>\n",
       "        </tr>\n",
       "        <tr>\n",
       "            <td>winnieho789@gmail.com         </td> <td>Winnie Ho               </td> <td>21              </td> <td>Other      </td> <td>Haas (Business Administration)                              </td> <td>4                       </td> <td>Introvert              </td> <td>Pop;Rap;Electronic;Country;Classical;R&B               </td> <td>Going to a beach                 </td> <td>Quality Time              </td> <td>Politics;Environment;Animals;Music     </td> <td>_winnnieho                                                                                                                    </td>\n",
       "        </tr>\n",
       "        <tr>\n",
       "            <td>alexis.chan.630@gmail.com     </td> <td>Alexis Chan             </td> <td>19              </td> <td>Second Year</td> <td>Haas (Business Administration)                              </td> <td>5                       </td> <td>Introvert              </td> <td>Pop;Classical;Jazz;Musical                             </td> <td>Going shopping                   </td> <td>Gifts                     </td> <td>Science/Technology;Animals;Memes       </td> <td>nan                                                                                                                           </td>\n",
       "        </tr>\n",
       "        <tr>\n",
       "            <td>ekchun@berkeley.edu           </td> <td>Eden Chun               </td> <td>19              </td> <td>Second Year</td> <td>L&S - STEM (Applied Mathematics, Statistics, Data Scienc ...</td> <td>4                       </td> <td>Introvert              </td> <td>Pop;Classical;Rock;R&B                                 </td> <td>Going shopping                   </td> <td>Quality Time              </td> <td>Animals;Fashion;Music                  </td> <td>sure ! @ed.enn                                                                                                                </td>\n",
       "        </tr>\n",
       "        <tr>\n",
       "            <td>maiemma@berkeley.edu          </td> <td>Emma Mai                </td> <td>23 and older    </td> <td>Fourth Year</td> <td>Haas (Business Administration)                              </td> <td>5                       </td> <td>Extrovert              </td> <td>Pop;Electronic;Country;R&B                             </td> <td>Being in nature                  </td> <td>Quality Time              </td> <td>Science/Technology;Fashion;Art         </td> <td>Itslilemma                                                                                                                    </td>\n",
       "        </tr>\n",
       "        <tr>\n",
       "            <td>melad.sabagh@berkeley.edu     </td> <td>Melad Sabagh            </td> <td>18 and younger  </td> <td>First Year </td> <td>L&S - STEM (Applied Mathematics, Statistics, Data Scienc ...</td> <td>8                       </td> <td>Extrovert              </td> <td>Pop;Rap;Rock                                           </td> <td>Going to a beach                 </td> <td>Quality Time              </td> <td>Sports;Productivity;Video Games        </td> <td>nan                                                                                                                           </td>\n",
       "        </tr>\n",
       "        <tr>\n",
       "            <td>shmackle99@gmail.com          </td> <td>Shannon M               </td> <td>21              </td> <td>Fourth Year</td> <td>L&S - Humanities (Philosophy, Psychology, Sociology, Art ...</td> <td>5                       </td> <td>Extrovert              </td> <td>Rap;Rock;R&B                                           </td> <td>Going to a beach                 </td> <td>Quality Time              </td> <td>Politics;Art;Music                     </td> <td>@shmackle742                                                                                                                  </td>\n",
       "        </tr>\n",
       "        <tr>\n",
       "            <td>gslosberg@berkeley.edu        </td> <td>Gen Slosberg            </td> <td>20              </td> <td>Fourth Year</td> <td>Public Policy                                               </td> <td>4                       </td> <td>Introvert              </td> <td>Pop;R&B;Jazz                                           </td> <td>Going to a beach                 </td> <td>Quality Time              </td> <td>Politics;Productivity;Memes            </td> <td>@gxslosberg                                                                                                                   </td>\n",
       "        </tr>\n",
       "        <tr>\n",
       "            <td>whitzha02@berkeley.edu        </td> <td>Whitney Zhao            </td> <td>23 and older    </td> <td>Fourth Year</td> <td>College of Chemistry                                        </td> <td>8                       </td> <td>Extrovert              </td> <td>Pop;Rap;Electronic;Country                             </td> <td>Going to a beach                 </td> <td>Quality Time              </td> <td>Animals;Fashion;Music                  </td> <td>Whitzzh                                                                                                                       </td>\n",
       "        </tr>\n",
       "        <tr>\n",
       "            <td>evelynwong@berkeley.edu       </td> <td>Evelyn Wong             </td> <td>20              </td> <td>Third Year </td> <td>CNR (Agricultural and Resource Economics; Environmental  ...</td> <td>4                       </td> <td>Extrovert              </td> <td>Pop;R&B                                                </td> <td>Going shopping                   </td> <td>Quality Time              </td> <td>Productivity;Fashion;Music             </td> <td>@eevelyn_wong                                                                                                                 </td>\n",
       "        </tr>\n",
       "        <tr>\n",
       "            <td>vickiechen99@gmail.com        </td> <td>Victoria Chen           </td> <td>18 and younger  </td> <td>Second Year</td> <td>L&S - STEM (Applied Mathematics, Statistics, Data Scienc ...</td> <td>7                       </td> <td>Introvert              </td> <td>Pop;Electronic                                         </td> <td>Going to a beach                 </td> <td>Quality Time              </td> <td>Animals;Memes;Video Games              </td> <td>nan                                                                                                                           </td>\n",
       "        </tr>\n",
       "        <tr>\n",
       "            <td>maiemma@berkeley.edu          </td> <td>Emma Mai                </td> <td>23 and older    </td> <td>Fourth Year</td> <td>Haas (Business Administration)                              </td> <td>5                       </td> <td>Extrovert              </td> <td>Pop;Electronic;Country;R&B                             </td> <td>Being in nature                  </td> <td>Quality Time              </td> <td>Science/Technology;Fashion;Art         </td> <td>Itslilemma                                                                                                                    </td>\n",
       "        </tr>\n",
       "        <tr>\n",
       "            <td>sinj@berkeley.edu             </td> <td>jun sin                 </td> <td>23 and older    </td> <td>Other      </td> <td>L&S - Humanities (Philosophy, Psychology, Sociology, Art ...</td> <td>3                       </td> <td>Introvert              </td> <td>Pop;Rap;Electronic;Country;Classical;Rock;R&B;Jazz     </td> <td>Being in nature                  </td> <td>Physical Touch            </td> <td>Fashion;Art;Music                      </td> <td>s.injunhee                                                                                                                    </td>\n",
       "        </tr>\n",
       "        <tr>\n",
       "            <td>chernterry@gmail.com          </td> <td>terry chern             </td> <td>22              </td> <td>Other      </td> <td>College of Engineering (Bioengineering; Civil & Environm ...</td> <td>2                       </td> <td>Extrovert              </td> <td>Pop;Rap;Electronic;Rock;R&B                            </td> <td>Playing a game/sport with friends</td> <td>Quality Time              </td> <td>Politics;Environment;Science/Technology</td> <td>delly_jern                                                                                                                    </td>\n",
       "        </tr>\n",
       "        <tr>\n",
       "            <td>thomaschiou1023@gmail.com     </td> <td>Thomas Chiou            </td> <td>22              </td> <td>Fifth+ Year</td> <td>L&S - Humanities (Philosophy, Psychology, Sociology, Art ...</td> <td>6                       </td> <td>Introvert              </td> <td>Pop;Rap;Electronic;R&B                                 </td> <td>Playing a game/sport with friends</td> <td>Quality Time              </td> <td>Sports;Music;Video Games               </td> <td>_ttao_                                                                                                                        </td>\n",
       "        </tr>\n",
       "        <tr>\n",
       "            <td>siddharthsengupta@berkeley.edu</td> <td>Siddharth (Sid) Sengupta</td> <td>19              </td> <td>Second Year</td> <td>College of Chemistry                                        </td> <td>3                       </td> <td>Extrovert              </td> <td>Pop;Rap;Rock;Jazz;Musical                              </td> <td>Going to a beach                 </td> <td>Quality Time              </td> <td>Science/Technology;Music;Video Games   </td> <td>Siddharth_sengupta                                                                                                            </td>\n",
       "        </tr>\n",
       "        <tr>\n",
       "            <td>samhitasen@berkeley.edu       </td> <td>Samhita Sen             </td> <td>20              </td> <td>Third Year </td> <td>L&S - Humanities (Philosophy, Psychology, Sociology, Art ...</td> <td>4                       </td> <td>Introvert              </td> <td>Pop;Rap;Country;Musical                                </td> <td>Playing a game/sport with friends</td> <td>Quality Time              </td> <td>Science/Technology;Fashion;Music       </td> <td>samhita_sen                                                                                                                   </td>\n",
       "        </tr>\n",
       "        <tr>\n",
       "            <td>lizthewiz1663@gmail.com       </td> <td>Elizabeth Zhu           </td> <td>19              </td> <td>Second Year</td> <td>L&S - STEM (Applied Mathematics, Statistics, Data Scienc ...</td> <td>9                       </td> <td>Introvert              </td> <td>Pop;Classical;Rock                                     </td> <td>Chilling at home                 </td> <td>Words of Affirmation      </td> <td>Music;Memes;Video Games                </td> <td>nan                                                                                                                           </td>\n",
       "        </tr>\n",
       "        <tr>\n",
       "            <td>julialbryant7@gmail.com       </td> <td>Julia Bryant            </td> <td>19              </td> <td>Second Year</td> <td>L&S - Humanities (Philosophy, Psychology, Sociology, Art ...</td> <td>8                       </td> <td>Introvert              </td> <td>Pop;Rap;Rock;R&B;Jazz;Musical                          </td> <td>Going to a beach                 </td> <td>Words of Affirmation      </td> <td>Politics;Environment;Art               </td> <td>@booksandbubbleteas                                                                                                           </td>\n",
       "        </tr>\n",
       "        <tr>\n",
       "            <td>vinaya.parimi@berkeley.edu    </td> <td>Vinaya Parimi           </td> <td>18 and younger  </td> <td>First Year </td> <td>L&S - STEM (Applied Mathematics, Statistics, Data Scienc ...</td> <td>4                       </td> <td>Extrovert              </td> <td>Pop;Rap;Rock;R&B;Jazz                                  </td> <td>Going shopping                   </td> <td>Quality Time              </td> <td>Science/Technology;Art;Music           </td> <td>@vinayaaaparimi                                                                                                               </td>\n",
       "        </tr>\n",
       "        <tr>\n",
       "            <td>juliepk1@gmail.com            </td> <td>Julie Park              </td> <td>21              </td> <td>Third Year </td> <td>L&S - Humanities (Philosophy, Psychology, Sociology, Art ...</td> <td>5                       </td> <td>Introvert              </td> <td>Pop;Rap;Electronic                                     </td> <td>Going shopping                   </td> <td>Quality Time              </td> <td>Animals;Fashion;Art                    </td> <td>nan                                                                                                                           </td>\n",
       "        </tr>\n",
       "        <tr>\n",
       "            <td>yashen@berkeley.edu           </td> <td>Yolanda Shen            </td> <td>19              </td> <td>Third Year </td> <td>L&S - STEM (Applied Mathematics, Statistics, Data Scienc ...</td> <td>nan                     </td> <td>Introvert              </td> <td>Pop;Electronic;Rock                                    </td> <td>Being in nature                  </td> <td>Quality Time              </td> <td>Science/Technology;Art;Video Games     </td> <td>yolanerd                                                                                                                      </td>\n",
       "        </tr>\n",
       "        <tr>\n",
       "            <td>riha.prasad1@gmail.com        </td> <td>Riha Prasad             </td> <td>19              </td> <td>Second Year</td> <td>L&S - STEM (Applied Mathematics, Statistics, Data Scienc ...</td> <td>4                       </td> <td>Introvert              </td> <td>Pop;Rap;Rock                                           </td> <td>Chilling at home                 </td> <td>Physical Touch            </td> <td>Sports;Music;Memes                     </td> <td>nan                                                                                                                           </td>\n",
       "        </tr>\n",
       "        <tr>\n",
       "            <td>juliathihauden@gmail.com      </td> <td>Julia Hauden            </td> <td>19              </td> <td>Second Year</td> <td>L&S - STEM (Applied Mathematics, Statistics, Data Scienc ...</td> <td>5                       </td> <td>Introvert              </td> <td>Pop;Rock                                               </td> <td>Chilling at home                 </td> <td>Quality Time              </td> <td>Animals;Music;Video Games              </td> <td>@juliathihauden                                                                                                               </td>\n",
       "        </tr>\n",
       "        <tr>\n",
       "            <td>brandonchang444@gmail.com     </td> <td>Brandon Chang           </td> <td>18 and younger  </td> <td>High School</td> <td>Not in College Yet!                                         </td> <td>1                       </td> <td>Introvert              </td> <td>Pop;Rap;Electronic;Classical;Rock;Jazz                 </td> <td>Chilling at home                 </td> <td>Physical Touch            </td> <td>Productivity;Fashion;Art               </td> <td>brandonc.00008                                                                                                                </td>\n",
       "        </tr>\n",
       "        <tr>\n",
       "            <td>yang.yilan98@gmail.com        </td> <td>Yilan Yang              </td> <td>22              </td> <td>Other      </td> <td>L&S - STEM (Applied Mathematics, Statistics, Data Scienc ...</td> <td>6                       </td> <td>Extrovert              </td> <td>Pop;Rap;Classical;R&B;Musical                          </td> <td>Going to a beach                 </td> <td>Words of Affirmation      </td> <td>Environment;Science/Technology;Fashion </td> <td>@yilanadelrey                                                                                                                 </td>\n",
       "        </tr>\n",
       "        <tr>\n",
       "            <td>mariogtz24@gmail.com          </td> <td>Mario Gutierrez         </td> <td>22              </td> <td>Other      </td> <td>CNR (Agricultural and Resource Economics; Environmental  ...</td> <td>2                       </td> <td>Extrovert              </td> <td>Pop;Rap;Electronic;Classical;Rock;R&B                  </td> <td>Being in nature                  </td> <td>Acts of Service           </td> <td>Environment;Science/Technology;Animals </td> <td>@mao_gtez                                                                                                                     </td>\n",
       "        </tr>\n",
       "        <tr>\n",
       "            <td>alexandra07@berkeley.edu      </td> <td>Alexandra Langer        </td> <td>21              </td> <td>Fourth Year</td> <td>L&S - Humanities (Philosophy, Psychology, Sociology, Art ...</td> <td>8                       </td> <td>Introvert              </td> <td>Pop                                                    </td> <td>Chilling at home                 </td> <td>Quality Time              </td> <td>Politics;Fashion;Memes                 </td> <td>nan                                                                                                                           </td>\n",
       "        </tr>\n",
       "        <tr>\n",
       "            <td>shmackle99@gmail.com          </td> <td>Shannon M               </td> <td>21              </td> <td>Fourth Year</td> <td>L&S - Humanities (Philosophy, Psychology, Sociology, Art ...</td> <td>5                       </td> <td>Extrovert              </td> <td>Rap;Rock;R&B                                           </td> <td>Going to a beach                 </td> <td>Quality Time              </td> <td>Politics;Art;Music                     </td> <td>@shmackle742                                                                                                                  </td>\n",
       "        </tr>\n",
       "        <tr>\n",
       "            <td>rexchan2001@gmail.com         </td> <td>Rex Chan                </td> <td>19              </td> <td>Second Year</td> <td>College of Engineering (Bioengineering; Civil & Environm ...</td> <td>6                       </td> <td>Introvert              </td> <td>Pop;Rap;Classical;Rock;R&B;Jazz;Musical                </td> <td>Chilling at home                 </td> <td>Words of Affirmation      </td> <td>Science/Technology;Memes;Video Games   </td> <td>nan                                                                                                                           </td>\n",
       "        </tr>\n",
       "        <tr>\n",
       "            <td>jxu13@tufts.edu               </td> <td>Jason Xu                </td> <td>19              </td> <td>First Year </td> <td>College of Engineering (Bioengineering; Civil & Environm ...</td> <td>5                       </td> <td>Introvert              </td> <td>Pop                                                    </td> <td>Chilling at home                 </td> <td>Quality Time              </td> <td>Science/Technology;Sports;Video Games  </td> <td>nan                                                                                                                           </td>\n",
       "        </tr>\n",
       "        <tr>\n",
       "            <td>maf2300@columbia.edu          </td> <td>Marcus Fong             </td> <td>18 and younger  </td> <td>Second Year</td> <td>L&S - STEM (Applied Mathematics, Statistics, Data Scienc ...</td> <td>7                       </td> <td>Extrovert              </td> <td>Pop;Rap;Classical;R&B;Jazz;Musical                     </td> <td>Playing a game/sport with friends</td> <td>Acts of Service           </td> <td>Politics;Music;Video Games             </td> <td>marconefong                                                                                                                   </td>\n",
       "        </tr>\n",
       "        <tr>\n",
       "            <td>karissalin@berkeley.edu       </td> <td>Karissa Lin             </td> <td>18 and younger  </td> <td>Second Year</td> <td>L&S - STEM (Applied Mathematics, Statistics, Data Scienc ...</td> <td>6                       </td> <td>Introvert              </td> <td>Pop                                                    </td> <td>Chilling at home                 </td> <td>Quality Time              </td> <td>Science/Technology;Animals;Memes       </td> <td>nan                                                                                                                           </td>\n",
       "        </tr>\n",
       "        <tr>\n",
       "            <td>marisabene@berkeley.edu       </td> <td>Marisa Benedito         </td> <td>19              </td> <td>Second Year</td> <td>L&S - Humanities (Philosophy, Psychology, Sociology, Art ...</td> <td>8                       </td> <td>Introvert              </td> <td>Pop;Electronic;Classical;Rock;R&B;Jazz;Musical         </td> <td>Chilling at home                 </td> <td>Quality Time              </td> <td>Environment;Art;Music                  </td> <td>@marisa_bene                                                                                                                  </td>\n",
       "        </tr>\n",
       "    </tbody>\n",
       "</table>"
      ],
      "text/plain": [
       "<IPython.core.display.HTML object>"
      ]
     },
     "metadata": {},
     "output_type": "display_data"
    }
   ],
   "source": [
    "import pandas as pd\n",
    "import numpy as np\n",
    "%matplotlib inline\n",
    "import matplotlib.pyplot as plt\n",
    "from datascience import *\n",
    "data = Table.read_table('Friend Finder Data Form.csv')\n",
    "data= data.drop('Timestamp')\n",
    "data.show()"
   ]
  },
  {
   "cell_type": "code",
   "execution_count": 65,
   "metadata": {},
   "outputs": [
    {
     "data": {
      "text/plain": [
       "44"
      ]
     },
     "execution_count": 65,
     "metadata": {},
     "output_type": "execute_result"
    }
   ],
   "source": [
    "#Counttable = Table().with_columns('education','music', 'interest', 'risk')\n",
    "def musicmatch(list, data):\n",
    "    newcolumn = []\n",
    "    music = data.select('What music do you listen to? (Check off all that apply)')\n",
    "    for i in range(len(music[0])):\n",
    "        count = 0\n",
    "        for k in range(len(music[0][i].split(';'))):\n",
    "            for j in range(len(list)):\n",
    "                if music[0][i].split(';')[k] == list[j]:\n",
    "                    count = count + 0.5\n",
    "        newcolumn.append(count)\n",
    "    return newcolumn\n",
    "list = ['Pop', 'Rap', 'Electronic', 'Rock']\n",
    "len(musicmatch(list, data))\n",
    "#should return [0.5, 2, 1, 2, etc.]\n"
   ]
  },
  {
   "cell_type": "code",
   "execution_count": 74,
   "metadata": {},
   "outputs": [
    {
     "data": {
      "text/plain": [
       "44"
      ]
     },
     "execution_count": 74,
     "metadata": {},
     "output_type": "execute_result"
    }
   ],
   "source": [
    "def riskcalc(input, data):\n",
    "    count = 0\n",
    "    newcolumn=[]\n",
    "    input = int(input)\n",
    "    risk = data.select('Full Name', 'How risk averse are you?')\n",
    "    for i in risk.column(1):\n",
    "        if i==input:\n",
    "            newcolumn.append(1)\n",
    "        elif abs(i-input)==1:\n",
    "            newcolumn.append(0.5)\n",
    "        else:\n",
    "            newcolumn.append(0)\n",
    "    return newcolumn\n",
    "len(riskcalc(3, data))\n",
    "#length of newcolumn = length of original column\n",
    "#data.select('Full Name', 'How risk averse are you?').column(1)"
   ]
  },
  {
   "cell_type": "code",
   "execution_count": 27,
   "metadata": {},
   "outputs": [],
   "source": [
    "def introextro(input, data):\n",
    "    count = 0\n",
    "    newcolumn=[]\n",
    "    intext=data.select('Full Name','Introvert or Extrovert?')\n",
    "    for i in intext.column(1):\n",
    "        if i==input:\n",
    "            newcolumn.append(1)\n",
    "        else:\n",
    "            newcolumn.append(0)\n",
    "    return newcolumn"
   ]
  },
  {
   "cell_type": "code",
   "execution_count": 59,
   "metadata": {},
   "outputs": [
    {
     "data": {
      "text/plain": [
       "44"
      ]
     },
     "execution_count": 59,
     "metadata": {},
     "output_type": "execute_result"
    }
   ],
   "source": [
    "def dayoff(input, data):\n",
    "    offday=data.select('Full Name', \"What's your ideal day off?\")\n",
    "    count = 0\n",
    "    newcolumn=[]\n",
    "    for i in offday.column(1):\n",
    "        if i==input:\n",
    "            newcolumn.append(1)\n",
    "        else:\n",
    "            newcolumn.append(0)\n",
    "    return newcolumn\n",
    "len(dayoff('Going shopping', data))"
   ]
  },
  {
   "cell_type": "code",
   "execution_count": 29,
   "metadata": {},
   "outputs": [],
   "source": [
    "def luvlang(input, data):\n",
    "    count = 0\n",
    "    newcolumn = []\n",
    "    luv = data.select('Full Name', \"What's your love language?\")\n",
    "    for i in luv.column(1):\n",
    "        if i == input:\n",
    "            newcolumn.append(1)\n",
    "        else:\n",
    "            newcolumn.append(0)\n",
    "    return newcolumn\n"
   ]
  },
  {
   "cell_type": "code",
   "execution_count": 58,
   "metadata": {},
   "outputs": [
    {
     "data": {
      "text/plain": [
       "44"
      ]
     },
     "execution_count": 58,
     "metadata": {},
     "output_type": "execute_result"
    }
   ],
   "source": [
    "def interests(list, data):\n",
    "    newcolumn = []\n",
    "    pickinterests = data.select('Pick Three Interests')\n",
    "    for i in range(len(pickinterests[0])):\n",
    "        count = 0\n",
    "        for k in range(len(pickinterests[0][i].split(';'))):\n",
    "            for j in range(3):\n",
    "                if pickinterests[0][i].split(';')[k] == list[j]:\n",
    "                    count = count + 0.5\n",
    "        newcolumn.append(count)\n",
    "    #if sum(interests(list, data))==0:\n",
    "        #interests(list,data)\n",
    "    return newcolumn\n",
    "\n",
    "list = [\"Environment\", \"Animals\", \"Memes\"]\n",
    "len(interests(list, data))\n"
   ]
  },
  {
   "cell_type": "code",
   "execution_count": null,
   "metadata": {},
   "outputs": [],
   "source": []
  },
  {
   "cell_type": "code",
   "execution_count": 42,
   "metadata": {},
   "outputs": [],
   "source": [
    "##make a table of full names and counts from above. Return the top 5 names, and every column besides timestamp and email\n",
    "##return profiles as Name: ~, I'm a ''year student majoring in ''. I like to listen to '' and i'd choose to '' on my day off. \n",
    "#def classify(username, fullname, age, education, major, risk, introextro, music, dayoff, lovelang, intersts, insta, data):\n",
    "    #name = data.column(0)\n",
    "    #riskcal = riskcalc(risk, data)\n",
    "    #day = dayoff(dayoff, data)\n",
    "    #love = luvlang(lovelang, data)\n",
    "    #ints = interests(intersts, data)\n",
    "    #music = musicmatch(music, data)\n",
    "    #newtbl = Table().with_columns('Name', name, 'Risk', riskcal, \"Love Language\", love, 'Interests', ints, 'Music Preference', music)\n",
    "    #return newtbl #newtbl.sort().take(0,1,2,3).column(0)\n",
    "#classify('michelle.yan@berkeley.edu','Michelle Yan', '21', '5th year','L&S Stem', '2' ,'extrovert', ['Pop', 'Rap', 'Electronic', 'Rock'], 'Going to a beach', 'Quality Time', [\"Environment\", \"Animals\", \"Memes\"], '@y.mich', data)"
   ]
  },
  {
   "cell_type": "code",
   "execution_count": 76,
   "metadata": {},
   "outputs": [
    {
     "ename": "ValueError",
     "evalue": "Column length mismatch. New column does not have the same number of rows as table.",
     "output_type": "error",
     "traceback": [
      "\u001b[0;31m---------------------------------------------------------------------------\u001b[0m",
      "\u001b[0;31mValueError\u001b[0m                                Traceback (most recent call last)",
      "\u001b[0;32m<ipython-input-76-f8582602fb58>\u001b[0m in \u001b[0;36m<module>\u001b[0;34m\u001b[0m\n\u001b[1;32m      4\u001b[0m     \u001b[0;32mreturn\u001b[0m \u001b[0mnewtab\u001b[0m\u001b[0;34m\u001b[0m\u001b[0;34m\u001b[0m\u001b[0m\n\u001b[1;32m      5\u001b[0m \u001b[0;34m\u001b[0m\u001b[0m\n\u001b[0;32m----> 6\u001b[0;31m \u001b[0mclassify\u001b[0m\u001b[0;34m(\u001b[0m\u001b[0;36m2\u001b[0m\u001b[0;34m)\u001b[0m\u001b[0;34m\u001b[0m\u001b[0;34m\u001b[0m\u001b[0m\n\u001b[0m",
      "\u001b[0;32m<ipython-input-76-f8582602fb58>\u001b[0m in \u001b[0;36mclassify\u001b[0;34m(user)\u001b[0m\n\u001b[1;32m      1\u001b[0m \u001b[0;32mdef\u001b[0m \u001b[0mclassify\u001b[0m\u001b[0;34m(\u001b[0m\u001b[0muser\u001b[0m\u001b[0;34m)\u001b[0m\u001b[0;34m:\u001b[0m\u001b[0;34m\u001b[0m\u001b[0;34m\u001b[0m\u001b[0m\n\u001b[1;32m      2\u001b[0m     \u001b[0mnewtab\u001b[0m \u001b[0;34m=\u001b[0m \u001b[0mTable\u001b[0m\u001b[0;34m(\u001b[0m\u001b[0;34m)\u001b[0m\u001b[0;34m\u001b[0m\u001b[0;34m\u001b[0m\u001b[0m\n\u001b[0;32m----> 3\u001b[0;31m     \u001b[0mnewtab\u001b[0m \u001b[0;34m=\u001b[0m \u001b[0mTable\u001b[0m\u001b[0;34m(\u001b[0m\u001b[0;34m)\u001b[0m\u001b[0;34m.\u001b[0m\u001b[0mwith_columns\u001b[0m\u001b[0;34m(\u001b[0m\u001b[0;34m'name'\u001b[0m\u001b[0;34m,\u001b[0m\u001b[0;34m(\u001b[0m\u001b[0mdata\u001b[0m\u001b[0;34m.\u001b[0m\u001b[0mrow\u001b[0m\u001b[0;34m(\u001b[0m\u001b[0muser\u001b[0m\u001b[0;34m)\u001b[0m\u001b[0;34m[\u001b[0m\u001b[0;36m1\u001b[0m\u001b[0;34m]\u001b[0m\u001b[0;34m)\u001b[0m\u001b[0;34m,\u001b[0m \u001b[0;34m'Risk'\u001b[0m\u001b[0;34m,\u001b[0m \u001b[0;34m(\u001b[0m\u001b[0mriskcalc\u001b[0m\u001b[0;34m(\u001b[0m\u001b[0mdata\u001b[0m\u001b[0;34m.\u001b[0m\u001b[0mrow\u001b[0m\u001b[0;34m(\u001b[0m\u001b[0muser\u001b[0m\u001b[0;34m)\u001b[0m\u001b[0;34m[\u001b[0m\u001b[0;36m5\u001b[0m\u001b[0;34m]\u001b[0m\u001b[0;34m,\u001b[0m \u001b[0mdata\u001b[0m\u001b[0;34m)\u001b[0m\u001b[0;34m)\u001b[0m\u001b[0;34m,\u001b[0m \u001b[0;34m'Introvert or extrovert'\u001b[0m\u001b[0;34m,\u001b[0m \u001b[0;34m(\u001b[0m\u001b[0mintroextro\u001b[0m\u001b[0;34m(\u001b[0m\u001b[0mdata\u001b[0m\u001b[0;34m.\u001b[0m\u001b[0mrow\u001b[0m\u001b[0;34m(\u001b[0m\u001b[0muser\u001b[0m\u001b[0;34m)\u001b[0m\u001b[0;34m[\u001b[0m\u001b[0;36m6\u001b[0m\u001b[0;34m]\u001b[0m\u001b[0;34m,\u001b[0m \u001b[0mdata\u001b[0m\u001b[0;34m)\u001b[0m\u001b[0;34m)\u001b[0m\u001b[0;34m,\u001b[0m\u001b[0;34m'Music Match'\u001b[0m\u001b[0;34m,\u001b[0m \u001b[0;34m(\u001b[0m\u001b[0mmusicmatch\u001b[0m\u001b[0;34m(\u001b[0m\u001b[0mdata\u001b[0m\u001b[0;34m.\u001b[0m\u001b[0mrow\u001b[0m\u001b[0;34m(\u001b[0m\u001b[0muser\u001b[0m\u001b[0;34m)\u001b[0m\u001b[0;34m[\u001b[0m\u001b[0;36m7\u001b[0m\u001b[0;34m]\u001b[0m\u001b[0;34m,\u001b[0m \u001b[0mdata\u001b[0m\u001b[0;34m)\u001b[0m\u001b[0;34m)\u001b[0m\u001b[0;34m,\u001b[0m \u001b[0;34m'Ideal Day off'\u001b[0m\u001b[0;34m,\u001b[0m \u001b[0;34m(\u001b[0m\u001b[0mdayoff\u001b[0m\u001b[0;34m(\u001b[0m\u001b[0mdata\u001b[0m\u001b[0;34m.\u001b[0m\u001b[0mrow\u001b[0m\u001b[0;34m(\u001b[0m\u001b[0muser\u001b[0m\u001b[0;34m)\u001b[0m\u001b[0;34m[\u001b[0m\u001b[0;36m8\u001b[0m\u001b[0;34m]\u001b[0m\u001b[0;34m,\u001b[0m \u001b[0mdata\u001b[0m\u001b[0;34m)\u001b[0m\u001b[0;34m)\u001b[0m\u001b[0;34m,\u001b[0m\u001b[0;34m'Love Language'\u001b[0m\u001b[0;34m,\u001b[0m \u001b[0;34m(\u001b[0m\u001b[0mluvlang\u001b[0m\u001b[0;34m(\u001b[0m\u001b[0mdata\u001b[0m\u001b[0;34m.\u001b[0m\u001b[0mrow\u001b[0m\u001b[0;34m(\u001b[0m\u001b[0muser\u001b[0m\u001b[0;34m)\u001b[0m\u001b[0;34m[\u001b[0m\u001b[0;36m9\u001b[0m\u001b[0;34m]\u001b[0m\u001b[0;34m,\u001b[0m \u001b[0mdata\u001b[0m\u001b[0;34m)\u001b[0m\u001b[0;34m)\u001b[0m\u001b[0;34m,\u001b[0m \u001b[0;34m'Same Interests'\u001b[0m\u001b[0;34m,\u001b[0m \u001b[0;34m(\u001b[0m\u001b[0minterests\u001b[0m\u001b[0;34m(\u001b[0m\u001b[0mdata\u001b[0m\u001b[0;34m.\u001b[0m\u001b[0mrow\u001b[0m\u001b[0;34m(\u001b[0m\u001b[0muser\u001b[0m\u001b[0;34m)\u001b[0m\u001b[0;34m[\u001b[0m\u001b[0;36m10\u001b[0m\u001b[0;34m]\u001b[0m\u001b[0;34m,\u001b[0m \u001b[0mdata\u001b[0m\u001b[0;34m)\u001b[0m\u001b[0;34m)\u001b[0m\u001b[0;34m)\u001b[0m\u001b[0;34m\u001b[0m\u001b[0;34m\u001b[0m\u001b[0m\n\u001b[0m\u001b[1;32m      4\u001b[0m     \u001b[0;32mreturn\u001b[0m \u001b[0mnewtab\u001b[0m\u001b[0;34m\u001b[0m\u001b[0;34m\u001b[0m\u001b[0m\n\u001b[1;32m      5\u001b[0m \u001b[0;34m\u001b[0m\u001b[0m\n",
      "\u001b[0;32m/opt/conda/lib/python3.6/site-packages/datascience/tables.py\u001b[0m in \u001b[0;36mwith_columns\u001b[0;34m(self, *labels_and_values, **formatter)\u001b[0m\n\u001b[1;32m   1762\u001b[0m         \u001b[0;32mfor\u001b[0m \u001b[0mi\u001b[0m \u001b[0;32min\u001b[0m \u001b[0mrange\u001b[0m\u001b[0;34m(\u001b[0m\u001b[0;36m0\u001b[0m\u001b[0;34m,\u001b[0m \u001b[0mlen\u001b[0m\u001b[0;34m(\u001b[0m\u001b[0mlabels_and_values\u001b[0m\u001b[0;34m)\u001b[0m\u001b[0;34m,\u001b[0m \u001b[0;36m2\u001b[0m\u001b[0;34m)\u001b[0m\u001b[0;34m:\u001b[0m\u001b[0;34m\u001b[0m\u001b[0;34m\u001b[0m\u001b[0m\n\u001b[1;32m   1763\u001b[0m             \u001b[0mlabel\u001b[0m\u001b[0;34m,\u001b[0m \u001b[0mvalues\u001b[0m \u001b[0;34m=\u001b[0m \u001b[0mlabels_and_values\u001b[0m\u001b[0;34m[\u001b[0m\u001b[0mi\u001b[0m\u001b[0;34m]\u001b[0m\u001b[0;34m,\u001b[0m \u001b[0mlabels_and_values\u001b[0m\u001b[0;34m[\u001b[0m\u001b[0mi\u001b[0m\u001b[0;34m+\u001b[0m\u001b[0;36m1\u001b[0m\u001b[0;34m]\u001b[0m\u001b[0;34m\u001b[0m\u001b[0;34m\u001b[0m\u001b[0m\n\u001b[0;32m-> 1764\u001b[0;31m             \u001b[0mself\u001b[0m \u001b[0;34m=\u001b[0m \u001b[0mself\u001b[0m\u001b[0;34m.\u001b[0m\u001b[0mwith_column\u001b[0m\u001b[0;34m(\u001b[0m\u001b[0mlabel\u001b[0m\u001b[0;34m,\u001b[0m \u001b[0mvalues\u001b[0m\u001b[0;34m,\u001b[0m \u001b[0mformatter\u001b[0m\u001b[0;34m)\u001b[0m\u001b[0;34m\u001b[0m\u001b[0;34m\u001b[0m\u001b[0m\n\u001b[0m\u001b[1;32m   1765\u001b[0m         \u001b[0;32mreturn\u001b[0m \u001b[0mself\u001b[0m\u001b[0;34m\u001b[0m\u001b[0;34m\u001b[0m\u001b[0m\n\u001b[1;32m   1766\u001b[0m \u001b[0;34m\u001b[0m\u001b[0m\n",
      "\u001b[0;32m/opt/conda/lib/python3.6/site-packages/datascience/tables.py\u001b[0m in \u001b[0;36mwith_column\u001b[0;34m(self, label, values, formatter)\u001b[0m\n\u001b[1;32m   1679\u001b[0m         \u001b[0;32melif\u001b[0m \u001b[0misinstance\u001b[0m\u001b[0;34m(\u001b[0m\u001b[0mformatter\u001b[0m\u001b[0;34m,\u001b[0m \u001b[0mdict\u001b[0m\u001b[0;34m)\u001b[0m\u001b[0;34m:\u001b[0m\u001b[0;34m\u001b[0m\u001b[0;34m\u001b[0m\u001b[0m\n\u001b[1;32m   1680\u001b[0m             \u001b[0mformatter\u001b[0m \u001b[0;34m=\u001b[0m \u001b[0mformatter\u001b[0m\u001b[0;34m[\u001b[0m\u001b[0;34m\"formatter\"\u001b[0m\u001b[0;34m]\u001b[0m\u001b[0;34m\u001b[0m\u001b[0;34m\u001b[0m\u001b[0m\n\u001b[0;32m-> 1681\u001b[0;31m         \u001b[0mnew_table\u001b[0m\u001b[0;34m.\u001b[0m\u001b[0mappend_column\u001b[0m\u001b[0;34m(\u001b[0m\u001b[0mlabel\u001b[0m\u001b[0;34m,\u001b[0m \u001b[0mvalues\u001b[0m\u001b[0;34m,\u001b[0m \u001b[0mformatter\u001b[0m\u001b[0;34m)\u001b[0m\u001b[0;34m\u001b[0m\u001b[0;34m\u001b[0m\u001b[0m\n\u001b[0m\u001b[1;32m   1682\u001b[0m         \u001b[0;32mreturn\u001b[0m \u001b[0mnew_table\u001b[0m\u001b[0;34m\u001b[0m\u001b[0;34m\u001b[0m\u001b[0m\n\u001b[1;32m   1683\u001b[0m \u001b[0;34m\u001b[0m\u001b[0m\n",
      "\u001b[0;32m/opt/conda/lib/python3.6/site-packages/datascience/tables.py\u001b[0m in \u001b[0;36mappend_column\u001b[0;34m(self, label, values, formatter)\u001b[0m\n\u001b[1;32m    497\u001b[0m \u001b[0;34m\u001b[0m\u001b[0m\n\u001b[1;32m    498\u001b[0m         \u001b[0;32mif\u001b[0m \u001b[0mself\u001b[0m\u001b[0;34m.\u001b[0m\u001b[0mnum_rows\u001b[0m \u001b[0;34m!=\u001b[0m \u001b[0;36m0\u001b[0m \u001b[0;32mand\u001b[0m \u001b[0mlen\u001b[0m\u001b[0;34m(\u001b[0m\u001b[0mvalues\u001b[0m\u001b[0;34m)\u001b[0m \u001b[0;34m!=\u001b[0m \u001b[0mself\u001b[0m\u001b[0;34m.\u001b[0m\u001b[0mnum_rows\u001b[0m\u001b[0;34m:\u001b[0m\u001b[0;34m\u001b[0m\u001b[0;34m\u001b[0m\u001b[0m\n\u001b[0;32m--> 499\u001b[0;31m             raise ValueError('Column length mismatch. New column does not have '\n\u001b[0m\u001b[1;32m    500\u001b[0m                              'the same number of rows as table.')\n\u001b[1;32m    501\u001b[0m         \u001b[0;32melse\u001b[0m\u001b[0;34m:\u001b[0m\u001b[0;34m\u001b[0m\u001b[0;34m\u001b[0m\u001b[0m\n",
      "\u001b[0;31mValueError\u001b[0m: Column length mismatch. New column does not have the same number of rows as table."
     ]
    }
   ],
   "source": [
    "def classify(user):\n",
    "    newtab = Table()\n",
    "    newtab = Table().with_columns('name',(data.row(user)[1]), 'Risk', (riskcalc(data.row(user)[5], data)), 'Introvert or extrovert', (introextro(data.row(user)[6], data)),'Music Match', (musicmatch(data.row(user)[7], data)), 'Ideal Day off', (dayoff(data.row(user)[8], data)),'Love Language', (luvlang(data.row(user)[9], data)), 'Same Interests', (interests(data.row(user)[10], data)))\n",
    "    newtab = newtab.group_by(sum).sort().take(0,1,2,3,4)\n",
    "    return print()\n",
    "classify(2)\n"
   ]
  },
  {
   "cell_type": "code",
   "execution_count": null,
   "metadata": {},
   "outputs": [],
   "source": []
  },
  {
   "cell_type": "code",
   "execution_count": null,
   "metadata": {},
   "outputs": [],
   "source": []
  },
  {
   "cell_type": "code",
   "execution_count": null,
   "metadata": {},
   "outputs": [],
   "source": []
  },
  {
   "cell_type": "code",
   "execution_count": null,
   "metadata": {},
   "outputs": [],
   "source": []
  }
 ],
 "metadata": {
  "kernelspec": {
   "display_name": "Python 3",
   "language": "python",
   "name": "python3"
  },
  "language_info": {
   "codemirror_mode": {
    "name": "ipython",
    "version": 3
   },
   "file_extension": ".py",
   "mimetype": "text/x-python",
   "name": "python",
   "nbconvert_exporter": "python",
   "pygments_lexer": "ipython3",
   "version": "3.8.6"
  }
 },
 "nbformat": 4,
 "nbformat_minor": 4
}
